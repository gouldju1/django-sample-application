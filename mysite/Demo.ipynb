{
 "cells": [
  {
   "cell_type": "markdown",
   "id": "13e473fe",
   "metadata": {},
   "source": [
    "# Accessing our `test` Endpoint (`add_two` Wrapper)\n",
    "## Justin A. Gould\n",
    "## July 2021"
   ]
  },
  {
   "cell_type": "markdown",
   "id": "12f6d55c",
   "metadata": {},
   "source": [
    "# Required Packages"
   ]
  },
  {
   "cell_type": "code",
   "execution_count": 1,
   "id": "cce7d4e3",
   "metadata": {},
   "outputs": [],
   "source": [
    "import requests\n",
    "import json"
   ]
  },
  {
   "cell_type": "markdown",
   "id": "9143589f",
   "metadata": {},
   "source": [
    "# Request"
   ]
  },
  {
   "cell_type": "code",
   "execution_count": 2,
   "id": "71414bc1",
   "metadata": {},
   "outputs": [
    {
     "name": "stdout",
     "output_type": "stream",
     "text": [
      "Response JSON:  \n",
      " {'request.method': 'POST', 'your_input': 12, 'add_two_result': 14}\n"
     ]
    }
   ],
   "source": [
    "#Build Request\n",
    "payload = {\"number\" : 12}\n",
    "\n",
    "url = \"http://127.0.0.1:8000/polls/test\"\n",
    "r = requests.post(url, data=json.dumps(payload), headers={\"content-type\":\"application/json; charset=utf-8\"})\n",
    "resp = json.loads(r.content.decode(\"utf-8\"))\n",
    "\n",
    "print(\"Response JSON: \", \"\\n\", resp)"
   ]
  }
 ],
 "metadata": {
  "kernelspec": {
   "display_name": "Python 3",
   "language": "python",
   "name": "python3"
  },
  "language_info": {
   "codemirror_mode": {
    "name": "ipython",
    "version": 3
   },
   "file_extension": ".py",
   "mimetype": "text/x-python",
   "name": "python",
   "nbconvert_exporter": "python",
   "pygments_lexer": "ipython3",
   "version": "3.8.8"
  }
 },
 "nbformat": 4,
 "nbformat_minor": 5
}
